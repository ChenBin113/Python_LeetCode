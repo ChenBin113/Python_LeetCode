{
 "cells": [
  {
   "cell_type": "code",
   "execution_count": 1,
   "metadata": {},
   "outputs": [
    {
     "name": "stdout",
     "output_type": "stream",
     "text": [
      "True\n"
     ]
    }
   ],
   "source": [
    "# 657.机器人能否返回原点\n",
    "class Solution:\n",
    "    def judgeCircle(self, moves: str) -> bool:\n",
    "        d = {\"L\": [-1, 0], \"R\": [1, 0], \"U\": [0, 1], \"D\": [0, -1]}\n",
    "        sum_x = 0\n",
    "        sum_y = 0\n",
    "        for i in moves:\n",
    "            i = d[i]\n",
    "            x = i[0]\n",
    "            y = i[1]\n",
    "            sum_x += x\n",
    "            sum_y += y\n",
    "        if sum_x == 0 and sum_y == 0:\n",
    "            return True\n",
    "        return False\n",
    "        # 神作：学习\n",
    "        # return moves.count('L') == moves.count('R') and moves.count('U') == moves.count('D')\n",
    "\n",
    "a = Solution()\n",
    "print(a.judgeCircle(\"UD\"))"
   ]
  }
 ],
 "metadata": {
  "kernelspec": {
   "display_name": "Python 3",
   "language": "python",
   "name": "python3"
  },
  "language_info": {
   "codemirror_mode": {
    "name": "ipython",
    "version": 3
   },
   "file_extension": ".py",
   "mimetype": "text/x-python",
   "name": "python",
   "nbconvert_exporter": "python",
   "pygments_lexer": "ipython3",
   "version": "3.6.5"
  }
 },
 "nbformat": 4,
 "nbformat_minor": 2
}
