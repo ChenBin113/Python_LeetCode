{
 "cells": [
  {
   "cell_type": "code",
   "execution_count": 4,
   "metadata": {},
   "outputs": [
    {
     "data": {
      "text/plain": [
       "832040"
      ]
     },
     "execution_count": 4,
     "metadata": {},
     "output_type": "execute_result"
    }
   ],
   "source": [
    "# 509. 斐波那契数\n",
    "class Solution:\n",
    "    def fib(self, N: int) -> int:\n",
    "        z_list = [0] * 29\n",
    "        num = [0, 1] + z_list\n",
    "        for i in range(2, N+1):\n",
    "            num[i] = num[i-1] + num[i-2]\n",
    "        return num[N]\n",
    "    \n",
    "c = Solution()\n",
    "c.fib(30)"
   ]
  },
  {
   "cell_type": "code",
   "execution_count": null,
   "metadata": {},
   "outputs": [],
   "source": [
    "# 561. 数组拆分 I\n",
    "class Solution:\n",
    "    def arrayPairSum(self, nums: List[int]) -> int:\n",
    "        nums = sorted(nums)\n",
    "        n = len(nums)\n",
    "        ans = 0\n",
    "        for i in range(0, n, 2):\n",
    "            ans += nums[i]\n",
    "        return ans"
   ]
  }
 ],
 "metadata": {
  "kernelspec": {
   "display_name": "Python 3",
   "language": "python",
   "name": "python3"
  },
  "language_info": {
   "codemirror_mode": {
    "name": "ipython",
    "version": 3
   },
   "file_extension": ".py",
   "mimetype": "text/x-python",
   "name": "python",
   "nbconvert_exporter": "python",
   "pygments_lexer": "ipython3",
   "version": "3.6.5"
  }
 },
 "nbformat": 4,
 "nbformat_minor": 2
}
